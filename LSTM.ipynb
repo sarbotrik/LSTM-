{
  "nbformat": 4,
  "nbformat_minor": 0,
  "metadata": {
    "colab": {
      "name": "LSTM.ipynb",
      "provenance": [],
      "collapsed_sections": []
    },
    "kernelspec": {
      "name": "python3",
      "display_name": "Python 3"
    },
    "language_info": {
      "name": "python"
    }
  },
  "cells": [
    {
      "cell_type": "code",
      "execution_count": null,
      "metadata": {
        "id": "t0XiT1YIrstE"
      },
      "outputs": [],
      "source": [
        "import numpy as np\n",
        "import pandas as pd"
      ]
    },
    {
      "cell_type": "code",
      "source": [
        "! pip install pandas_datareader"
      ],
      "metadata": {
        "colab": {
          "base_uri": "https://localhost:8080/"
        },
        "id": "ghnZq5AUrxU5",
        "outputId": "7dc98db8-835c-422e-de6e-236928a627cf"
      },
      "execution_count": null,
      "outputs": [
        {
          "output_type": "stream",
          "name": "stdout",
          "text": [
            "Requirement already satisfied: pandas_datareader in /usr/local/lib/python3.7/dist-packages (0.9.0)\n",
            "Requirement already satisfied: pandas>=0.23 in /usr/local/lib/python3.7/dist-packages (from pandas_datareader) (1.3.5)\n",
            "Requirement already satisfied: lxml in /usr/local/lib/python3.7/dist-packages (from pandas_datareader) (4.2.6)\n",
            "Requirement already satisfied: requests>=2.19.0 in /usr/local/lib/python3.7/dist-packages (from pandas_datareader) (2.23.0)\n",
            "Requirement already satisfied: pytz>=2017.3 in /usr/local/lib/python3.7/dist-packages (from pandas>=0.23->pandas_datareader) (2018.9)\n",
            "Requirement already satisfied: numpy>=1.17.3 in /usr/local/lib/python3.7/dist-packages (from pandas>=0.23->pandas_datareader) (1.21.5)\n",
            "Requirement already satisfied: python-dateutil>=2.7.3 in /usr/local/lib/python3.7/dist-packages (from pandas>=0.23->pandas_datareader) (2.8.2)\n",
            "Requirement already satisfied: six>=1.5 in /usr/local/lib/python3.7/dist-packages (from python-dateutil>=2.7.3->pandas>=0.23->pandas_datareader) (1.15.0)\n",
            "Requirement already satisfied: certifi>=2017.4.17 in /usr/local/lib/python3.7/dist-packages (from requests>=2.19.0->pandas_datareader) (2021.10.8)\n",
            "Requirement already satisfied: chardet<4,>=3.0.2 in /usr/local/lib/python3.7/dist-packages (from requests>=2.19.0->pandas_datareader) (3.0.4)\n",
            "Requirement already satisfied: urllib3!=1.25.0,!=1.25.1,<1.26,>=1.21.1 in /usr/local/lib/python3.7/dist-packages (from requests>=2.19.0->pandas_datareader) (1.24.3)\n",
            "Requirement already satisfied: idna<3,>=2.5 in /usr/local/lib/python3.7/dist-packages (from requests>=2.19.0->pandas_datareader) (2.10)\n"
          ]
        }
      ]
    },
    {
      "cell_type": "code",
      "source": [
        "import pandas_datareader as pdr"
      ],
      "metadata": {
        "id": "W7BQM73rr44B"
      },
      "execution_count": null,
      "outputs": []
    },
    {
      "cell_type": "code",
      "source": [
        "df=pdr.get_data_tiingo('AAPL', api_key='3406cec2b00e881a3c9cf8a9284d55e7120bb1c4')"
      ],
      "metadata": {
        "colab": {
          "base_uri": "https://localhost:8080/"
        },
        "id": "v7HAuHXmr9vf",
        "outputId": "a0537b25-303a-4ee6-c1c2-d8316ea4604d"
      },
      "execution_count": null,
      "outputs": [
        {
          "output_type": "stream",
          "name": "stderr",
          "text": [
            "/usr/local/lib/python3.7/dist-packages/pandas_datareader/tiingo.py:234: FutureWarning: In a future version of pandas all arguments of concat except for the argument 'objs' will be keyword-only\n",
            "  return pd.concat(dfs, self._concat_axis)\n"
          ]
        }
      ]
    },
    {
      "cell_type": "code",
      "source": [
        "df.to_csv('AAPL.csv')"
      ],
      "metadata": {
        "id": "6K8oorHgsTpB"
      },
      "execution_count": null,
      "outputs": []
    },
    {
      "cell_type": "code",
      "source": [
        "df1=pd.read_csv('AAPL.csv', index_col='date', parse_dates=True)"
      ],
      "metadata": {
        "id": "cn-6F5ClsaMY"
      },
      "execution_count": null,
      "outputs": []
    },
    {
      "cell_type": "code",
      "source": [
        "df1"
      ],
      "metadata": {
        "colab": {
          "base_uri": "https://localhost:8080/",
          "height": 673
        },
        "id": "9kE1F103sekf",
        "outputId": "4cd2b0e2-0937-47af-e265-84fc8cf575df"
      },
      "execution_count": null,
      "outputs": [
        {
          "output_type": "execute_result",
          "data": {
            "text/html": [
              "\n",
              "  <div id=\"df-29a4d03e-2441-42cf-85d6-4f8c10edde62\">\n",
              "    <div class=\"colab-df-container\">\n",
              "      <div>\n",
              "<style scoped>\n",
              "    .dataframe tbody tr th:only-of-type {\n",
              "        vertical-align: middle;\n",
              "    }\n",
              "\n",
              "    .dataframe tbody tr th {\n",
              "        vertical-align: top;\n",
              "    }\n",
              "\n",
              "    .dataframe thead th {\n",
              "        text-align: right;\n",
              "    }\n",
              "</style>\n",
              "<table border=\"1\" class=\"dataframe\">\n",
              "  <thead>\n",
              "    <tr style=\"text-align: right;\">\n",
              "      <th></th>\n",
              "      <th>symbol</th>\n",
              "      <th>close</th>\n",
              "      <th>high</th>\n",
              "      <th>low</th>\n",
              "      <th>open</th>\n",
              "      <th>volume</th>\n",
              "      <th>adjClose</th>\n",
              "      <th>adjHigh</th>\n",
              "      <th>adjLow</th>\n",
              "      <th>adjOpen</th>\n",
              "      <th>adjVolume</th>\n",
              "      <th>divCash</th>\n",
              "      <th>splitFactor</th>\n",
              "    </tr>\n",
              "    <tr>\n",
              "      <th>date</th>\n",
              "      <th></th>\n",
              "      <th></th>\n",
              "      <th></th>\n",
              "      <th></th>\n",
              "      <th></th>\n",
              "      <th></th>\n",
              "      <th></th>\n",
              "      <th></th>\n",
              "      <th></th>\n",
              "      <th></th>\n",
              "      <th></th>\n",
              "      <th></th>\n",
              "      <th></th>\n",
              "    </tr>\n",
              "  </thead>\n",
              "  <tbody>\n",
              "    <tr>\n",
              "      <th>2017-03-02 00:00:00+00:00</th>\n",
              "      <td>AAPL</td>\n",
              "      <td>138.96</td>\n",
              "      <td>140.2786</td>\n",
              "      <td>138.7600</td>\n",
              "      <td>140.000</td>\n",
              "      <td>26210984</td>\n",
              "      <td>32.795092</td>\n",
              "      <td>33.106286</td>\n",
              "      <td>32.747891</td>\n",
              "      <td>33.040536</td>\n",
              "      <td>104843936</td>\n",
              "      <td>0.0</td>\n",
              "      <td>1.0</td>\n",
              "    </tr>\n",
              "    <tr>\n",
              "      <th>2017-03-03 00:00:00+00:00</th>\n",
              "      <td>AAPL</td>\n",
              "      <td>139.78</td>\n",
              "      <td>139.8300</td>\n",
              "      <td>138.5900</td>\n",
              "      <td>138.780</td>\n",
              "      <td>21571121</td>\n",
              "      <td>32.988615</td>\n",
              "      <td>33.000415</td>\n",
              "      <td>32.707770</td>\n",
              "      <td>32.752611</td>\n",
              "      <td>86284484</td>\n",
              "      <td>0.0</td>\n",
              "      <td>1.0</td>\n",
              "    </tr>\n",
              "    <tr>\n",
              "      <th>2017-03-06 00:00:00+00:00</th>\n",
              "      <td>AAPL</td>\n",
              "      <td>139.34</td>\n",
              "      <td>139.7700</td>\n",
              "      <td>138.5959</td>\n",
              "      <td>139.365</td>\n",
              "      <td>21750044</td>\n",
              "      <td>32.884773</td>\n",
              "      <td>32.986255</td>\n",
              "      <td>32.709163</td>\n",
              "      <td>32.890673</td>\n",
              "      <td>87000176</td>\n",
              "      <td>0.0</td>\n",
              "      <td>1.0</td>\n",
              "    </tr>\n",
              "    <tr>\n",
              "      <th>2017-03-07 00:00:00+00:00</th>\n",
              "      <td>AAPL</td>\n",
              "      <td>139.52</td>\n",
              "      <td>139.9800</td>\n",
              "      <td>138.7900</td>\n",
              "      <td>139.060</td>\n",
              "      <td>17446297</td>\n",
              "      <td>32.927254</td>\n",
              "      <td>33.035816</td>\n",
              "      <td>32.754971</td>\n",
              "      <td>32.818692</td>\n",
              "      <td>69785188</td>\n",
              "      <td>0.0</td>\n",
              "      <td>1.0</td>\n",
              "    </tr>\n",
              "    <tr>\n",
              "      <th>2017-03-08 00:00:00+00:00</th>\n",
              "      <td>AAPL</td>\n",
              "      <td>139.00</td>\n",
              "      <td>139.8000</td>\n",
              "      <td>138.8200</td>\n",
              "      <td>138.950</td>\n",
              "      <td>18707236</td>\n",
              "      <td>32.804532</td>\n",
              "      <td>32.993335</td>\n",
              "      <td>32.762051</td>\n",
              "      <td>32.792732</td>\n",
              "      <td>74828944</td>\n",
              "      <td>0.0</td>\n",
              "      <td>1.0</td>\n",
              "    </tr>\n",
              "    <tr>\n",
              "      <th>...</th>\n",
              "      <td>...</td>\n",
              "      <td>...</td>\n",
              "      <td>...</td>\n",
              "      <td>...</td>\n",
              "      <td>...</td>\n",
              "      <td>...</td>\n",
              "      <td>...</td>\n",
              "      <td>...</td>\n",
              "      <td>...</td>\n",
              "      <td>...</td>\n",
              "      <td>...</td>\n",
              "      <td>...</td>\n",
              "      <td>...</td>\n",
              "    </tr>\n",
              "    <tr>\n",
              "      <th>2022-02-22 00:00:00+00:00</th>\n",
              "      <td>AAPL</td>\n",
              "      <td>164.32</td>\n",
              "      <td>166.6900</td>\n",
              "      <td>162.1500</td>\n",
              "      <td>164.980</td>\n",
              "      <td>90457637</td>\n",
              "      <td>164.320000</td>\n",
              "      <td>166.690000</td>\n",
              "      <td>162.150000</td>\n",
              "      <td>164.980000</td>\n",
              "      <td>90457637</td>\n",
              "      <td>0.0</td>\n",
              "      <td>1.0</td>\n",
              "    </tr>\n",
              "    <tr>\n",
              "      <th>2022-02-23 00:00:00+00:00</th>\n",
              "      <td>AAPL</td>\n",
              "      <td>160.07</td>\n",
              "      <td>166.1500</td>\n",
              "      <td>159.7500</td>\n",
              "      <td>165.540</td>\n",
              "      <td>90009247</td>\n",
              "      <td>160.070000</td>\n",
              "      <td>166.150000</td>\n",
              "      <td>159.750000</td>\n",
              "      <td>165.540000</td>\n",
              "      <td>90009247</td>\n",
              "      <td>0.0</td>\n",
              "      <td>1.0</td>\n",
              "    </tr>\n",
              "    <tr>\n",
              "      <th>2022-02-24 00:00:00+00:00</th>\n",
              "      <td>AAPL</td>\n",
              "      <td>162.74</td>\n",
              "      <td>162.8500</td>\n",
              "      <td>152.0000</td>\n",
              "      <td>152.580</td>\n",
              "      <td>141147540</td>\n",
              "      <td>162.740000</td>\n",
              "      <td>162.850000</td>\n",
              "      <td>152.000000</td>\n",
              "      <td>152.580000</td>\n",
              "      <td>141147540</td>\n",
              "      <td>0.0</td>\n",
              "      <td>1.0</td>\n",
              "    </tr>\n",
              "    <tr>\n",
              "      <th>2022-02-25 00:00:00+00:00</th>\n",
              "      <td>AAPL</td>\n",
              "      <td>164.85</td>\n",
              "      <td>165.1200</td>\n",
              "      <td>160.8738</td>\n",
              "      <td>163.840</td>\n",
              "      <td>91974222</td>\n",
              "      <td>164.850000</td>\n",
              "      <td>165.120000</td>\n",
              "      <td>160.873800</td>\n",
              "      <td>163.840000</td>\n",
              "      <td>91974222</td>\n",
              "      <td>0.0</td>\n",
              "      <td>1.0</td>\n",
              "    </tr>\n",
              "    <tr>\n",
              "      <th>2022-02-28 00:00:00+00:00</th>\n",
              "      <td>AAPL</td>\n",
              "      <td>165.12</td>\n",
              "      <td>165.4200</td>\n",
              "      <td>162.4300</td>\n",
              "      <td>163.060</td>\n",
              "      <td>95056629</td>\n",
              "      <td>165.120000</td>\n",
              "      <td>165.420000</td>\n",
              "      <td>162.430000</td>\n",
              "      <td>163.060000</td>\n",
              "      <td>95056629</td>\n",
              "      <td>0.0</td>\n",
              "      <td>1.0</td>\n",
              "    </tr>\n",
              "  </tbody>\n",
              "</table>\n",
              "<p>1258 rows × 13 columns</p>\n",
              "</div>\n",
              "      <button class=\"colab-df-convert\" onclick=\"convertToInteractive('df-29a4d03e-2441-42cf-85d6-4f8c10edde62')\"\n",
              "              title=\"Convert this dataframe to an interactive table.\"\n",
              "              style=\"display:none;\">\n",
              "        \n",
              "  <svg xmlns=\"http://www.w3.org/2000/svg\" height=\"24px\"viewBox=\"0 0 24 24\"\n",
              "       width=\"24px\">\n",
              "    <path d=\"M0 0h24v24H0V0z\" fill=\"none\"/>\n",
              "    <path d=\"M18.56 5.44l.94 2.06.94-2.06 2.06-.94-2.06-.94-.94-2.06-.94 2.06-2.06.94zm-11 1L8.5 8.5l.94-2.06 2.06-.94-2.06-.94L8.5 2.5l-.94 2.06-2.06.94zm10 10l.94 2.06.94-2.06 2.06-.94-2.06-.94-.94-2.06-.94 2.06-2.06.94z\"/><path d=\"M17.41 7.96l-1.37-1.37c-.4-.4-.92-.59-1.43-.59-.52 0-1.04.2-1.43.59L10.3 9.45l-7.72 7.72c-.78.78-.78 2.05 0 2.83L4 21.41c.39.39.9.59 1.41.59.51 0 1.02-.2 1.41-.59l7.78-7.78 2.81-2.81c.8-.78.8-2.07 0-2.86zM5.41 20L4 18.59l7.72-7.72 1.47 1.35L5.41 20z\"/>\n",
              "  </svg>\n",
              "      </button>\n",
              "      \n",
              "  <style>\n",
              "    .colab-df-container {\n",
              "      display:flex;\n",
              "      flex-wrap:wrap;\n",
              "      gap: 12px;\n",
              "    }\n",
              "\n",
              "    .colab-df-convert {\n",
              "      background-color: #E8F0FE;\n",
              "      border: none;\n",
              "      border-radius: 50%;\n",
              "      cursor: pointer;\n",
              "      display: none;\n",
              "      fill: #1967D2;\n",
              "      height: 32px;\n",
              "      padding: 0 0 0 0;\n",
              "      width: 32px;\n",
              "    }\n",
              "\n",
              "    .colab-df-convert:hover {\n",
              "      background-color: #E2EBFA;\n",
              "      box-shadow: 0px 1px 2px rgba(60, 64, 67, 0.3), 0px 1px 3px 1px rgba(60, 64, 67, 0.15);\n",
              "      fill: #174EA6;\n",
              "    }\n",
              "\n",
              "    [theme=dark] .colab-df-convert {\n",
              "      background-color: #3B4455;\n",
              "      fill: #D2E3FC;\n",
              "    }\n",
              "\n",
              "    [theme=dark] .colab-df-convert:hover {\n",
              "      background-color: #434B5C;\n",
              "      box-shadow: 0px 1px 3px 1px rgba(0, 0, 0, 0.15);\n",
              "      filter: drop-shadow(0px 1px 2px rgba(0, 0, 0, 0.3));\n",
              "      fill: #FFFFFF;\n",
              "    }\n",
              "  </style>\n",
              "\n",
              "      <script>\n",
              "        const buttonEl =\n",
              "          document.querySelector('#df-29a4d03e-2441-42cf-85d6-4f8c10edde62 button.colab-df-convert');\n",
              "        buttonEl.style.display =\n",
              "          google.colab.kernel.accessAllowed ? 'block' : 'none';\n",
              "\n",
              "        async function convertToInteractive(key) {\n",
              "          const element = document.querySelector('#df-29a4d03e-2441-42cf-85d6-4f8c10edde62');\n",
              "          const dataTable =\n",
              "            await google.colab.kernel.invokeFunction('convertToInteractive',\n",
              "                                                     [key], {});\n",
              "          if (!dataTable) return;\n",
              "\n",
              "          const docLinkHtml = 'Like what you see? Visit the ' +\n",
              "            '<a target=\"_blank\" href=https://colab.research.google.com/notebooks/data_table.ipynb>data table notebook</a>'\n",
              "            + ' to learn more about interactive tables.';\n",
              "          element.innerHTML = '';\n",
              "          dataTable['output_type'] = 'display_data';\n",
              "          await google.colab.output.renderOutput(dataTable, element);\n",
              "          const docLink = document.createElement('div');\n",
              "          docLink.innerHTML = docLinkHtml;\n",
              "          element.appendChild(docLink);\n",
              "        }\n",
              "      </script>\n",
              "    </div>\n",
              "  </div>\n",
              "  "
            ],
            "text/plain": [
              "                          symbol   close  ...  divCash  splitFactor\n",
              "date                                      ...                      \n",
              "2017-03-02 00:00:00+00:00   AAPL  138.96  ...      0.0          1.0\n",
              "2017-03-03 00:00:00+00:00   AAPL  139.78  ...      0.0          1.0\n",
              "2017-03-06 00:00:00+00:00   AAPL  139.34  ...      0.0          1.0\n",
              "2017-03-07 00:00:00+00:00   AAPL  139.52  ...      0.0          1.0\n",
              "2017-03-08 00:00:00+00:00   AAPL  139.00  ...      0.0          1.0\n",
              "...                          ...     ...  ...      ...          ...\n",
              "2022-02-22 00:00:00+00:00   AAPL  164.32  ...      0.0          1.0\n",
              "2022-02-23 00:00:00+00:00   AAPL  160.07  ...      0.0          1.0\n",
              "2022-02-24 00:00:00+00:00   AAPL  162.74  ...      0.0          1.0\n",
              "2022-02-25 00:00:00+00:00   AAPL  164.85  ...      0.0          1.0\n",
              "2022-02-28 00:00:00+00:00   AAPL  165.12  ...      0.0          1.0\n",
              "\n",
              "[1258 rows x 13 columns]"
            ]
          },
          "metadata": {},
          "execution_count": 11
        }
      ]
    },
    {
      "cell_type": "code",
      "source": [
        "df2=df1['close']"
      ],
      "metadata": {
        "id": "vFwxJxxusiNY"
      },
      "execution_count": null,
      "outputs": []
    },
    {
      "cell_type": "code",
      "source": [
        "df2"
      ],
      "metadata": {
        "colab": {
          "base_uri": "https://localhost:8080/"
        },
        "id": "X1lqpBINs_VR",
        "outputId": "d4e89cbe-fee0-4d38-980b-a59c49706d79"
      },
      "execution_count": null,
      "outputs": [
        {
          "output_type": "execute_result",
          "data": {
            "text/plain": [
              "date\n",
              "2017-03-02 00:00:00+00:00    138.96\n",
              "2017-03-03 00:00:00+00:00    139.78\n",
              "2017-03-06 00:00:00+00:00    139.34\n",
              "2017-03-07 00:00:00+00:00    139.52\n",
              "2017-03-08 00:00:00+00:00    139.00\n",
              "                              ...  \n",
              "2022-02-22 00:00:00+00:00    164.32\n",
              "2022-02-23 00:00:00+00:00    160.07\n",
              "2022-02-24 00:00:00+00:00    162.74\n",
              "2022-02-25 00:00:00+00:00    164.85\n",
              "2022-02-28 00:00:00+00:00    165.12\n",
              "Name: close, Length: 1258, dtype: float64"
            ]
          },
          "metadata": {},
          "execution_count": 13
        }
      ]
    },
    {
      "cell_type": "code",
      "source": [
        "from sklearn.preprocessing import MinMaxScaler"
      ],
      "metadata": {
        "id": "Z-PrgiPGtBOA"
      },
      "execution_count": null,
      "outputs": []
    },
    {
      "cell_type": "code",
      "source": [
        "scaler=MinMaxScaler()"
      ],
      "metadata": {
        "id": "j_cBexHitJtj"
      },
      "execution_count": null,
      "outputs": []
    },
    {
      "cell_type": "code",
      "source": [
        "train=np.array(df2.iloc[:1000]).reshape(-1,1)\n",
        "test=np.array(df2.iloc[1000:1259]).reshape(-1,1)"
      ],
      "metadata": {
        "id": "mgSsNZfatNay"
      },
      "execution_count": null,
      "outputs": []
    },
    {
      "cell_type": "code",
      "source": [
        "scaler.fit(train)"
      ],
      "metadata": {
        "colab": {
          "base_uri": "https://localhost:8080/"
        },
        "id": "nwIDKJy4tbQM",
        "outputId": "93356e13-c387-4a36-d1b2-67ecbb9f60de"
      },
      "execution_count": null,
      "outputs": [
        {
          "output_type": "execute_result",
          "data": {
            "text/plain": [
              "MinMaxScaler()"
            ]
          },
          "metadata": {},
          "execution_count": 17
        }
      ]
    },
    {
      "cell_type": "code",
      "source": [
        "scaled_train=scaler.transform(train)\n",
        "scaled_test=scaler.transform(test)"
      ],
      "metadata": {
        "id": "7ynLIX9Ltdx6"
      },
      "execution_count": null,
      "outputs": []
    },
    {
      "cell_type": "code",
      "source": [
        "from keras.preprocessing.sequence import TimeseriesGenerator"
      ],
      "metadata": {
        "id": "i4rCL4-ut9bi"
      },
      "execution_count": null,
      "outputs": []
    },
    {
      "cell_type": "code",
      "source": [
        "n_input=12\n",
        "n_features=1\n",
        "generator=TimeseriesGenerator(scaled_train,scaled_train,length=n_input)"
      ],
      "metadata": {
        "id": "uo_MJKb_uH_A"
      },
      "execution_count": null,
      "outputs": []
    },
    {
      "cell_type": "code",
      "source": [
        "from keras.models import Sequential\n",
        "from keras.layers import Dense\n",
        "from keras.layers import LSTM\n",
        "import tensorflow as tf"
      ],
      "metadata": {
        "id": "9Sw2fr3gvZCc"
      },
      "execution_count": null,
      "outputs": []
    },
    {
      "cell_type": "code",
      "source": [
        "model=Sequential()\n",
        "model.add(LSTM(100, activation='relu' , input_shape=(n_input,n_features)))\n",
        "model.add(Dense(1))\n",
        "model.compile(optimizer='adam', loss='mse')"
      ],
      "metadata": {
        "id": "vg_a7IaJvqiv"
      },
      "execution_count": null,
      "outputs": []
    },
    {
      "cell_type": "code",
      "source": [
        ""
      ],
      "metadata": {
        "id": "fsD7Hv1hO8GI"
      },
      "execution_count": null,
      "outputs": []
    },
    {
      "cell_type": "code",
      "source": [
        "model.summary()"
      ],
      "metadata": {
        "colab": {
          "base_uri": "https://localhost:8080/"
        },
        "id": "Ucea_7BtPoAB",
        "outputId": "f3c767f3-5d9d-4f39-cd8a-c511e557920e"
      },
      "execution_count": null,
      "outputs": [
        {
          "output_type": "stream",
          "name": "stdout",
          "text": [
            "Model: \"sequential_1\"\n",
            "_________________________________________________________________\n",
            " Layer (type)                Output Shape              Param #   \n",
            "=================================================================\n",
            " lstm (LSTM)                 (None, 100)               40800     \n",
            "                                                                 \n",
            " dense (Dense)               (None, 1)                 101       \n",
            "                                                                 \n",
            "=================================================================\n",
            "Total params: 40,901\n",
            "Trainable params: 40,901\n",
            "Non-trainable params: 0\n",
            "_________________________________________________________________\n"
          ]
        }
      ]
    },
    {
      "cell_type": "code",
      "source": [
        ""
      ],
      "metadata": {
        "id": "Bqr3wpMxPpcm"
      },
      "execution_count": null,
      "outputs": []
    },
    {
      "cell_type": "code",
      "source": [
        "model.fit(generator, epochs=50)"
      ],
      "metadata": {
        "colab": {
          "base_uri": "https://localhost:8080/"
        },
        "id": "ew_A__Y_P0jQ",
        "outputId": "4853d6e7-f4c4-4880-c464-501e80593507"
      },
      "execution_count": null,
      "outputs": [
        {
          "output_type": "stream",
          "name": "stdout",
          "text": [
            "Epoch 1/50\n",
            "8/8 [==============================] - 5s 53ms/step - loss: 0.0753\n",
            "Epoch 2/50\n",
            "8/8 [==============================] - 1s 56ms/step - loss: 0.0419\n",
            "Epoch 3/50\n",
            "8/8 [==============================] - 1s 75ms/step - loss: 0.0233\n",
            "Epoch 4/50\n",
            "8/8 [==============================] - 0s 55ms/step - loss: 0.0101\n",
            "Epoch 5/50\n",
            "8/8 [==============================] - 1s 67ms/step - loss: 0.0063\n",
            "Epoch 6/50\n",
            "8/8 [==============================] - 1s 59ms/step - loss: 0.0042\n",
            "Epoch 7/50\n",
            "8/8 [==============================] - 0s 51ms/step - loss: 0.0041\n",
            "Epoch 8/50\n",
            "8/8 [==============================] - 0s 53ms/step - loss: 0.0045\n",
            "Epoch 9/50\n",
            "8/8 [==============================] - 0s 52ms/step - loss: 0.0037\n",
            "Epoch 10/50\n",
            "8/8 [==============================] - 1s 70ms/step - loss: 0.0033\n",
            "Epoch 11/50\n",
            "8/8 [==============================] - 0s 51ms/step - loss: 0.0031\n",
            "Epoch 12/50\n",
            "8/8 [==============================] - 0s 59ms/step - loss: 0.0028\n",
            "Epoch 13/50\n",
            "8/8 [==============================] - 0s 51ms/step - loss: 0.0028\n",
            "Epoch 14/50\n",
            "8/8 [==============================] - 0s 50ms/step - loss: 0.0027\n",
            "Epoch 15/50\n",
            "8/8 [==============================] - 0s 56ms/step - loss: 0.0025\n",
            "Epoch 16/50\n",
            "8/8 [==============================] - 0s 44ms/step - loss: 0.0025\n",
            "Epoch 17/50\n",
            "8/8 [==============================] - 0s 46ms/step - loss: 0.0024\n",
            "Epoch 18/50\n",
            "8/8 [==============================] - 0s 51ms/step - loss: 0.0024\n",
            "Epoch 19/50\n",
            "8/8 [==============================] - 0s 46ms/step - loss: 0.0023\n",
            "Epoch 20/50\n",
            "8/8 [==============================] - 0s 54ms/step - loss: 0.0023\n",
            "Epoch 21/50\n",
            "8/8 [==============================] - 0s 47ms/step - loss: 0.0022\n",
            "Epoch 22/50\n",
            "8/8 [==============================] - 0s 51ms/step - loss: 0.0022\n",
            "Epoch 23/50\n",
            "8/8 [==============================] - 0s 45ms/step - loss: 0.0021\n",
            "Epoch 24/50\n",
            "8/8 [==============================] - 0s 44ms/step - loss: 0.0021\n",
            "Epoch 25/50\n",
            "8/8 [==============================] - 0s 42ms/step - loss: 0.0021\n",
            "Epoch 26/50\n",
            "8/8 [==============================] - 0s 55ms/step - loss: 0.0020\n",
            "Epoch 27/50\n",
            "8/8 [==============================] - 0s 57ms/step - loss: 0.0021\n",
            "Epoch 28/50\n",
            "8/8 [==============================] - 1s 67ms/step - loss: 0.0021\n",
            "Epoch 29/50\n",
            "8/8 [==============================] - 0s 54ms/step - loss: 0.0020\n",
            "Epoch 30/50\n",
            "8/8 [==============================] - 0s 42ms/step - loss: 0.0022\n",
            "Epoch 31/50\n",
            "8/8 [==============================] - 0s 52ms/step - loss: 0.0020\n",
            "Epoch 32/50\n",
            "8/8 [==============================] - 1s 67ms/step - loss: 0.0019\n",
            "Epoch 33/50\n",
            "8/8 [==============================] - 0s 49ms/step - loss: 0.0019\n",
            "Epoch 34/50\n",
            "8/8 [==============================] - 0s 50ms/step - loss: 0.0018\n",
            "Epoch 35/50\n",
            "8/8 [==============================] - 1s 69ms/step - loss: 0.0018\n",
            "Epoch 36/50\n",
            "8/8 [==============================] - 1s 61ms/step - loss: 0.0018\n",
            "Epoch 37/50\n",
            "8/8 [==============================] - 0s 43ms/step - loss: 0.0018\n",
            "Epoch 38/50\n",
            "8/8 [==============================] - 0s 45ms/step - loss: 0.0018\n",
            "Epoch 39/50\n",
            "8/8 [==============================] - 0s 51ms/step - loss: 0.0017\n",
            "Epoch 40/50\n",
            "8/8 [==============================] - 0s 51ms/step - loss: 0.0017\n",
            "Epoch 41/50\n",
            "8/8 [==============================] - 0s 53ms/step - loss: 0.0016\n",
            "Epoch 42/50\n",
            "8/8 [==============================] - 0s 58ms/step - loss: 0.0017\n",
            "Epoch 43/50\n",
            "8/8 [==============================] - 0s 54ms/step - loss: 0.0017\n",
            "Epoch 44/50\n",
            "8/8 [==============================] - 0s 54ms/step - loss: 0.0016\n",
            "Epoch 45/50\n",
            "8/8 [==============================] - 0s 42ms/step - loss: 0.0016\n",
            "Epoch 46/50\n",
            "8/8 [==============================] - 0s 49ms/step - loss: 0.0016\n",
            "Epoch 47/50\n",
            "8/8 [==============================] - 0s 42ms/step - loss: 0.0016\n",
            "Epoch 48/50\n",
            "8/8 [==============================] - 0s 53ms/step - loss: 0.0018\n",
            "Epoch 49/50\n",
            "8/8 [==============================] - 0s 49ms/step - loss: 0.0016\n",
            "Epoch 50/50\n",
            "8/8 [==============================] - 0s 47ms/step - loss: 0.0016\n"
          ]
        },
        {
          "output_type": "execute_result",
          "data": {
            "text/plain": [
              "<keras.callbacks.History at 0x7fa8c04fed50>"
            ]
          },
          "metadata": {},
          "execution_count": 25
        }
      ]
    },
    {
      "cell_type": "code",
      "source": [
        "loss_per_epoch=model.history.history['loss']"
      ],
      "metadata": {
        "id": "49y-n0tKP9fG"
      },
      "execution_count": null,
      "outputs": []
    },
    {
      "cell_type": "code",
      "source": [
        "plt.plot(loss_per_epoch)"
      ],
      "metadata": {
        "colab": {
          "base_uri": "https://localhost:8080/",
          "height": 283
        },
        "id": "il12epmwRF7m",
        "outputId": "83c28e0f-efe5-439b-a4c4-d9f566206205"
      },
      "execution_count": null,
      "outputs": [
        {
          "output_type": "execute_result",
          "data": {
            "text/plain": [
              "[<matplotlib.lines.Line2D at 0x7fa8be290850>]"
            ]
          },
          "metadata": {},
          "execution_count": 29
        },
        {
          "output_type": "display_data",
          "data": {
            "image/png": "[encoded data removed]",
            "text/plain": [
              "<Figure size 432x288 with 1 Axes>"
            ]
          },
          "metadata": {
            "needs_background": "light"
          }
        }
      ]
    },
    {
      "cell_type": "code",
      "source": [
        "import matplotlib.pyplot as plt"
      ],
      "metadata": {
        "id": "RAJ2fqs9RJmL"
      },
      "execution_count": null,
      "outputs": []
    },
    {
      "cell_type": "code",
      "source": [
        "test_predictions=[]\n",
        "last_eval_batch=scaled_train[-n_input:]\n",
        "current_batch=last_eval_batch.reshape(1,n_input,n_features)\n",
        "for i in range(len(test)):\n",
        "  current_pred=model.predict(current_batch)[0]\n",
        "  test_predictions.append(current_pred)\n",
        "  current_batch = np.append(current_batch[:,1:,:],[[current_pred]],axis=1)"
      ],
      "metadata": {
        "id": "O2j-WIiZRNCF"
      },
      "execution_count": null,
      "outputs": []
    },
    {
      "cell_type": "code",
      "source": [
        "test_predictions"
      ],
      "metadata": {
        "colab": {
          "base_uri": "https://localhost:8080/"
        },
        "id": "90_jSaiRUkUl",
        "outputId": "0264af63-c22a-4373-d7b1-3a1e1f8d3896"
      },
      "execution_count": null,
      "outputs": [
        {
          "output_type": "execute_result",
          "data": {
            "text/plain": [
              "[array([0.07738557], dtype=float32),\n",
              " array([0.07979169], dtype=float32),\n",
              " array([0.08280857], dtype=float32),\n",
              " array([0.08623719], dtype=float32),\n",
              " array([0.08989476], dtype=float32),\n",
              " array([0.09360647], dtype=float32),\n",
              " array([0.09725542], dtype=float32),\n",
              " array([0.10087977], dtype=float32),\n",
              " array([0.10446577], dtype=float32),\n",
              " array([0.10798965], dtype=float32),\n",
              " array([0.11140276], dtype=float32),\n",
              " array([0.11470461], dtype=float32),\n",
              " array([0.11788931], dtype=float32),\n",
              " array([0.12110664], dtype=float32),\n",
              " array([0.12428363], dtype=float32),\n",
              " array([0.12740354], dtype=float32),\n",
              " array([0.1304666], dtype=float32),\n",
              " array([0.13348381], dtype=float32),\n",
              " array([0.13645557], dtype=float32),\n",
              " array([0.13938096], dtype=float32),\n",
              " array([0.142263], dtype=float32),\n",
              " array([0.14510345], dtype=float32),\n",
              " array([0.14790875], dtype=float32),\n",
              " array([0.15067701], dtype=float32),\n",
              " array([0.15342027], dtype=float32),\n",
              " array([0.1561445], dtype=float32),\n",
              " array([0.15885116], dtype=float32),\n",
              " array([0.16153233], dtype=float32),\n",
              " array([0.16419841], dtype=float32),\n",
              " array([0.16684885], dtype=float32),\n",
              " array([0.1694814], dtype=float32),\n",
              " array([0.17209831], dtype=float32),\n",
              " array([0.17470883], dtype=float32),\n",
              " array([0.17730746], dtype=float32),\n",
              " array([0.17989631], dtype=float32),\n",
              " array([0.18247579], dtype=float32),\n",
              " array([0.18504597], dtype=float32),\n",
              " array([0.187611], dtype=float32),\n",
              " array([0.19018397], dtype=float32),\n",
              " array([0.1927565], dtype=float32),\n",
              " array([0.1953474], dtype=float32),\n",
              " array([0.19795614], dtype=float32),\n",
              " array([0.20056182], dtype=float32),\n",
              " array([0.20317213], dtype=float32),\n",
              " array([0.20579141], dtype=float32),\n",
              " array([0.20843396], dtype=float32),\n",
              " array([0.21108574], dtype=float32),\n",
              " array([0.21374404], dtype=float32),\n",
              " array([0.21641378], dtype=float32),\n",
              " array([0.21909846], dtype=float32),\n",
              " array([0.22179858], dtype=float32),\n",
              " array([0.22451447], dtype=float32),\n",
              " array([0.22724378], dtype=float32),\n",
              " array([0.23000464], dtype=float32),\n",
              " array([0.23278296], dtype=float32),\n",
              " array([0.23558141], dtype=float32),\n",
              " array([0.23840138], dtype=float32),\n",
              " array([0.24123767], dtype=float32),\n",
              " array([0.24409433], dtype=float32),\n",
              " array([0.24697134], dtype=float32),\n",
              " array([0.2498713], dtype=float32),\n",
              " array([0.25278604], dtype=float32),\n",
              " array([0.25572073], dtype=float32),\n",
              " array([0.25867584], dtype=float32),\n",
              " array([0.26164886], dtype=float32),\n",
              " array([0.26465043], dtype=float32),\n",
              " array([0.267679], dtype=float32),\n",
              " array([0.27072752], dtype=float32),\n",
              " array([0.2737995], dtype=float32),\n",
              " array([0.27690828], dtype=float32),\n",
              " array([0.28005755], dtype=float32),\n",
              " array([0.2832388], dtype=float32),\n",
              " array([0.28644988], dtype=float32),\n",
              " array([0.2896941], dtype=float32),\n",
              " array([0.29297468], dtype=float32),\n",
              " array([0.29628715], dtype=float32),\n",
              " array([0.2996678], dtype=float32),\n",
              " array([0.3030898], dtype=float32),\n",
              " array([0.3065398], dtype=float32),\n",
              " array([0.3100341], dtype=float32),\n",
              " array([0.3135641], dtype=float32),\n",
              " array([0.3171253], dtype=float32),\n",
              " array([0.320713], dtype=float32),\n",
              " array([0.324329], dtype=float32),\n",
              " array([0.3280029], dtype=float32),\n",
              " array([0.33171764], dtype=float32),\n",
              " array([0.33546686], dtype=float32),\n",
              " array([0.33925232], dtype=float32),\n",
              " array([0.34307665], dtype=float32),\n",
              " array([0.34694192], dtype=float32),\n",
              " array([0.35083306], dtype=float32),\n",
              " array([0.3547628], dtype=float32),\n",
              " array([0.35872176], dtype=float32),\n",
              " array([0.3627032], dtype=float32),\n",
              " array([0.36671242], dtype=float32),\n",
              " array([0.37075606], dtype=float32),\n",
              " array([0.3748106], dtype=float32),\n",
              " array([0.37889066], dtype=float32),\n",
              " array([0.38299897], dtype=float32),\n",
              " array([0.38713825], dtype=float32),\n",
              " array([0.3913071], dtype=float32),\n",
              " array([0.39549783], dtype=float32),\n",
              " array([0.39968374], dtype=float32),\n",
              " array([0.40387836], dtype=float32),\n",
              " array([0.4080709], dtype=float32),\n",
              " array([0.41226473], dtype=float32),\n",
              " array([0.41645882], dtype=float32),\n",
              " array([0.4206358], dtype=float32),\n",
              " array([0.42478162], dtype=float32),\n",
              " array([0.42888775], dtype=float32),\n",
              " array([0.43295667], dtype=float32),\n",
              " array([0.43698964], dtype=float32),\n",
              " array([0.44099063], dtype=float32),\n",
              " array([0.44495535], dtype=float32),\n",
              " array([0.4488824], dtype=float32),\n",
              " array([0.4527693], dtype=float32),\n",
              " array([0.4566128], dtype=float32),\n",
              " array([0.46038526], dtype=float32),\n",
              " array([0.46410015], dtype=float32),\n",
              " array([0.46774393], dtype=float32),\n",
              " array([0.47132972], dtype=float32),\n",
              " array([0.47485673], dtype=float32),\n",
              " array([0.47832504], dtype=float32),\n",
              " array([0.48173326], dtype=float32),\n",
              " array([0.48506713], dtype=float32),\n",
              " array([0.48833612], dtype=float32),\n",
              " array([0.4915417], dtype=float32),\n",
              " array([0.49467838], dtype=float32),\n",
              " array([0.49773517], dtype=float32),\n",
              " array([0.5006969], dtype=float32),\n",
              " array([0.5035785], dtype=float32),\n",
              " array([0.50637203], dtype=float32),\n",
              " array([0.50907993], dtype=float32),\n",
              " array([0.51170117], dtype=float32),\n",
              " array([0.5142246], dtype=float32),\n",
              " array([0.5166604], dtype=float32),\n",
              " array([0.5190107], dtype=float32),\n",
              " array([0.52127635], dtype=float32),\n",
              " array([0.5234584], dtype=float32),\n",
              " array([0.5255594], dtype=float32),\n",
              " array([0.5275816], dtype=float32),\n",
              " array([0.5295203], dtype=float32),\n",
              " array([0.5313717], dtype=float32),\n",
              " array([0.5331461], dtype=float32),\n",
              " array([0.53484017], dtype=float32),\n",
              " array([0.53645873], dtype=float32),\n",
              " array([0.53800416], dtype=float32),\n",
              " array([0.5394787], dtype=float32),\n",
              " array([0.5408835], dtype=float32),\n",
              " array([0.5422218], dtype=float32),\n",
              " array([0.5434959], dtype=float32),\n",
              " array([0.5447082], dtype=float32),\n",
              " array([0.5458614], dtype=float32),\n",
              " array([0.5469577], dtype=float32),\n",
              " array([0.5479996], dtype=float32),\n",
              " array([0.5489896], dtype=float32),\n",
              " array([0.54992956], dtype=float32),\n",
              " array([0.5508217], dtype=float32),\n",
              " array([0.55166847], dtype=float32),\n",
              " array([0.55247146], dtype=float32),\n",
              " array([0.55323076], dtype=float32),\n",
              " array([0.55395734], dtype=float32),\n",
              " array([0.5546552], dtype=float32),\n",
              " array([0.5553202], dtype=float32),\n",
              " array([0.5559547], dtype=float32),\n",
              " array([0.5565607], dtype=float32),\n",
              " array([0.55714023], dtype=float32),\n",
              " array([0.5576934], dtype=float32),\n",
              " array([0.5582222], dtype=float32),\n",
              " array([0.55872726], dtype=float32),\n",
              " array([0.55920976], dtype=float32),\n",
              " array([0.55967104], dtype=float32),\n",
              " array([0.5601117], dtype=float32),\n",
              " array([0.5605329], dtype=float32),\n",
              " array([0.5609351], dtype=float32),\n",
              " array([0.5613185], dtype=float32),\n",
              " array([0.5616835], dtype=float32),\n",
              " array([0.5620313], dtype=float32),\n",
              " array([0.5623628], dtype=float32),\n",
              " array([0.56267875], dtype=float32),\n",
              " array([0.56297916], dtype=float32),\n",
              " array([0.56326556], dtype=float32),\n",
              " array([0.563538], dtype=float32),\n",
              " array([0.5637976], dtype=float32),\n",
              " array([0.5640444], dtype=float32),\n",
              " array([0.56427956], dtype=float32),\n",
              " array([0.5645032], dtype=float32),\n",
              " array([0.564716], dtype=float32),\n",
              " array([0.5649184], dtype=float32),\n",
              " array([0.5651111], dtype=float32),\n",
              " array([0.56529444], dtype=float32),\n",
              " array([0.5654686], dtype=float32),\n",
              " array([0.5656345], dtype=float32),\n",
              " array([0.56579226], dtype=float32),\n",
              " array([0.56594217], dtype=float32),\n",
              " array([0.56608474], dtype=float32),\n",
              " array([0.56622046], dtype=float32),\n",
              " array([0.56634957], dtype=float32),\n",
              " array([0.56647235], dtype=float32),\n",
              " array([0.5665889], dtype=float32),\n",
              " array([0.5666998], dtype=float32),\n",
              " array([0.5668052], dtype=float32),\n",
              " array([0.5669056], dtype=float32),\n",
              " array([0.5670007], dtype=float32),\n",
              " array([0.56709135], dtype=float32),\n",
              " array([0.5671773], dtype=float32),\n",
              " array([0.56725943], dtype=float32),\n",
              " array([0.5673372], dtype=float32),\n",
              " array([0.56741124], dtype=float32),\n",
              " array([0.5674818], dtype=float32),\n",
              " array([0.5675484], dtype=float32),\n",
              " array([0.567612], dtype=float32),\n",
              " array([0.56767195], dtype=float32),\n",
              " array([0.56772876], dtype=float32),\n",
              " array([0.56778294], dtype=float32),\n",
              " array([0.5678339], dtype=float32),\n",
              " array([0.56788254], dtype=float32),\n",
              " array([0.56792843], dtype=float32),\n",
              " array([0.5679719], dtype=float32),\n",
              " array([0.56801313], dtype=float32),\n",
              " array([0.5680523], dtype=float32),\n",
              " array([0.56808895], dtype=float32),\n",
              " array([0.5681242], dtype=float32),\n",
              " array([0.5681572], dtype=float32),\n",
              " array([0.5681886], dtype=float32),\n",
              " array([0.5682184], dtype=float32),\n",
              " array([0.56824654], dtype=float32),\n",
              " array([0.56827325], dtype=float32),\n",
              " array([0.5682985], dtype=float32),\n",
              " array([0.5683224], dtype=float32),\n",
              " array([0.5683452], dtype=float32),\n",
              " array([0.56836665], dtype=float32),\n",
              " array([0.568387], dtype=float32),\n",
              " array([0.5684062], dtype=float32),\n",
              " array([0.5684244], dtype=float32),\n",
              " array([0.56844157], dtype=float32),\n",
              " array([0.56845784], dtype=float32),\n",
              " array([0.5684734], dtype=float32),\n",
              " array([0.568488], dtype=float32),\n",
              " array([0.56850183], dtype=float32),\n",
              " array([0.5685149], dtype=float32),\n",
              " array([0.5685273], dtype=float32),\n",
              " array([0.5685392], dtype=float32),\n",
              " array([0.56855035], dtype=float32),\n",
              " array([0.5685608], dtype=float32),\n",
              " array([0.5685709], dtype=float32),\n",
              " array([0.5685804], dtype=float32),\n",
              " array([0.56858915], dtype=float32),\n",
              " array([0.5685977], dtype=float32),\n",
              " array([0.5686057], dtype=float32),\n",
              " array([0.56861347], dtype=float32),\n",
              " array([0.56862056], dtype=float32),\n",
              " array([0.5686273], dtype=float32),\n",
              " array([0.56863385], dtype=float32),\n",
              " array([0.56864], dtype=float32),\n",
              " array([0.56864566], dtype=float32),\n",
              " array([0.5686514], dtype=float32),\n",
              " array([0.56865644], dtype=float32)]"
            ]
          },
          "metadata": {},
          "execution_count": 33
        }
      ]
    },
    {
      "cell_type": "code",
      "source": [
        "true_predictions=scaler.inverse_transform(test_predictions)"
      ],
      "metadata": {
        "id": "GYLanis_VF2T"
      },
      "execution_count": null,
      "outputs": []
    },
    {
      "cell_type": "code",
      "source": [
        "true_predictions"
      ],
      "metadata": {
        "colab": {
          "base_uri": "https://localhost:8080/"
        },
        "id": "gVh0YsieVQZR",
        "outputId": "44c3f835-6efb-44b5-e31a-65dc4578fc0b"
      },
      "execution_count": null,
      "outputs": [
        {
          "output_type": "execute_result",
          "data": {
            "text/plain": [
              "array([[137.73619065],\n",
              "       [138.69683418],\n",
              "       [139.9013212 ],\n",
              "       [141.27019897],\n",
              "       [142.7304816 ],\n",
              "       [144.21238395],\n",
              "       [145.6692279 ],\n",
              "       [147.11624957],\n",
              "       [148.54795777],\n",
              "       [149.95486934],\n",
              "       [151.31755389],\n",
              "       [152.63581511],\n",
              "       [153.90730897],\n",
              "       [155.19182582],\n",
              "       [156.46023795],\n",
              "       [157.7058643 ],\n",
              "       [158.92878817],\n",
              "       [160.13341203],\n",
              "       [161.3198846 ],\n",
              "       [162.48784894],\n",
              "       [163.63850085],\n",
              "       [164.77255424],\n",
              "       [165.89256732],\n",
              "       [166.99779641],\n",
              "       [168.09304259],\n",
              "       [169.18069154],\n",
              "       [170.26132627],\n",
              "       [171.33178177],\n",
              "       [172.39621659],\n",
              "       [173.45440465],\n",
              "       [174.50544762],\n",
              "       [175.55024979],\n",
              "       [176.59249971],\n",
              "       [177.6300021 ],\n",
              "       [178.66360176],\n",
              "       [179.69345931],\n",
              "       [180.71960451],\n",
              "       [181.74369125],\n",
              "       [182.77094897],\n",
              "       [183.79803415],\n",
              "       [184.83244886],\n",
              "       [185.87399082],\n",
              "       [186.91430722],\n",
              "       [187.95647385],\n",
              "       [189.00222195],\n",
              "       [190.0572569 ],\n",
              "       [191.1159804 ],\n",
              "       [192.17730969],\n",
              "       [193.24320208],\n",
              "       [194.31506161],\n",
              "       [195.39308461],\n",
              "       [196.47740195],\n",
              "       [197.5670796 ],\n",
              "       [198.66935189],\n",
              "       [199.77859676],\n",
              "       [200.8958791 ],\n",
              "       [202.02175223],\n",
              "       [203.15413982],\n",
              "       [204.29466009],\n",
              "       [205.44330709],\n",
              "       [206.60111599],\n",
              "       [207.76482659],\n",
              "       [208.93650329],\n",
              "       [210.11633051],\n",
              "       [211.30330877],\n",
              "       [212.50168588],\n",
              "       [213.71084309],\n",
              "       [214.92796045],\n",
              "       [216.15445389],\n",
              "       [217.39563018],\n",
              "       [218.65297663],\n",
              "       [219.92309025],\n",
              "       [221.20511435],\n",
              "       [222.50036967],\n",
              "       [223.81014125],\n",
              "       [225.13264431],\n",
              "       [226.48237132],\n",
              "       [227.84860165],\n",
              "       [229.22601664],\n",
              "       [230.62111292],\n",
              "       [232.0304637 ],\n",
              "       [233.45227228],\n",
              "       [234.8846706 ],\n",
              "       [236.32834877],\n",
              "       [237.79515778],\n",
              "       [239.27826783],\n",
              "       [240.77514454],\n",
              "       [242.28648992],\n",
              "       [243.81335105],\n",
              "       [245.35656082],\n",
              "       [246.91009855],\n",
              "       [248.47904494],\n",
              "       [250.05966384],\n",
              "       [251.64925426],\n",
              "       [253.24993416],\n",
              "       [254.86435691],\n",
              "       [256.48313454],\n",
              "       [258.11209736],\n",
              "       [259.75234002],\n",
              "       [261.40494531],\n",
              "       [263.06935399],\n",
              "       [264.74250812],\n",
              "       [266.41373468],\n",
              "       [268.08843562],\n",
              "       [269.76230367],\n",
              "       [271.43669525],\n",
              "       [273.11118202],\n",
              "       [274.77883901],\n",
              "       [276.43406199],\n",
              "       [278.07343606],\n",
              "       [279.6979488 ],\n",
              "       [281.30811187],\n",
              "       [282.90550775],\n",
              "       [284.48842308],\n",
              "       [286.0562986 ],\n",
              "       [287.60814673],\n",
              "       [289.14265864],\n",
              "       [290.64881624],\n",
              "       [292.13198579],\n",
              "       [293.58676533],\n",
              "       [295.01839024],\n",
              "       [296.42655116],\n",
              "       [297.81127188],\n",
              "       [299.17200507],\n",
              "       [300.50305131],\n",
              "       [301.80819434],\n",
              "       [303.08802911],\n",
              "       [304.34034246],\n",
              "       [305.56076762],\n",
              "       [306.74323633],\n",
              "       [307.89370976],\n",
              "       [309.00903479],\n",
              "       [310.09016332],\n",
              "       [311.13669078],\n",
              "       [312.14416711],\n",
              "       [313.11666162],\n",
              "       [314.05503101],\n",
              "       [314.95958465],\n",
              "       [315.83077468],\n",
              "       [316.66960057],\n",
              "       [317.47694283],\n",
              "       [318.25096908],\n",
              "       [318.99015629],\n",
              "       [319.69857378],\n",
              "       [320.3749365 ],\n",
              "       [321.02114823],\n",
              "       [321.63816085],\n",
              "       [322.22687865],\n",
              "       [322.78772999],\n",
              "       [323.3220475 ],\n",
              "       [323.83073547],\n",
              "       [324.3147458 ],\n",
              "       [324.77517314],\n",
              "       [325.2128504 ],\n",
              "       [325.62884846],\n",
              "       [326.0240954 ],\n",
              "       [326.39937652],\n",
              "       [326.75557233],\n",
              "       [327.09363471],\n",
              "       [327.41422997],\n",
              "       [327.71738192],\n",
              "       [328.00746923],\n",
              "       [328.28608632],\n",
              "       [328.55159117],\n",
              "       [328.80491188],\n",
              "       [329.04685755],\n",
              "       [329.27823728],\n",
              "       [329.49909867],\n",
              "       [329.71020323],\n",
              "       [329.91186031],\n",
              "       [330.10449828],\n",
              "       [330.28866446],\n",
              "       [330.46459682],\n",
              "       [330.63277131],\n",
              "       [330.79333071],\n",
              "       [330.9464178 ],\n",
              "       [331.09212778],\n",
              "       [331.23100797],\n",
              "       [331.36334395],\n",
              "       [331.48949267],\n",
              "       [331.60943032],\n",
              "       [331.72377565],\n",
              "       [331.83255244],\n",
              "       [331.93618905],\n",
              "       [332.03473307],\n",
              "       [332.12861284],\n",
              "       [332.21789977],\n",
              "       [332.30285561],\n",
              "       [332.38367074],\n",
              "       [332.46060694],\n",
              "       [332.53380699],\n",
              "       [332.60334228],\n",
              "       [332.66956976],\n",
              "       [332.73256082],\n",
              "       [332.79241067],\n",
              "       [332.84933346],\n",
              "       [332.90351958],\n",
              "       [332.95506422],\n",
              "       [333.00408636],\n",
              "       [333.05060979],\n",
              "       [333.0948963 ],\n",
              "       [333.13696967],\n",
              "       [333.17706787],\n",
              "       [333.21502433],\n",
              "       [333.25121981],\n",
              "       [333.2855353 ],\n",
              "       [333.31832778],\n",
              "       [333.34938307],\n",
              "       [333.37893913],\n",
              "       [333.40711496],\n",
              "       [333.43369639],\n",
              "       [333.45908795],\n",
              "       [333.48302789],\n",
              "       [333.50570657],\n",
              "       [333.52733819],\n",
              "       [333.54768476],\n",
              "       [333.56710323],\n",
              "       [333.58542704],\n",
              "       [333.60277517],\n",
              "       [333.6192428 ],\n",
              "       [333.63487753],\n",
              "       [333.64951278],\n",
              "       [333.6635769 ],\n",
              "       [333.67676052],\n",
              "       [333.68930162],\n",
              "       [333.7012002 ],\n",
              "       [333.71243246],\n",
              "       [333.72309358],\n",
              "       [333.73318357],\n",
              "       [333.74272623],\n",
              "       [333.75181675],\n",
              "       [333.76038372],\n",
              "       [333.76849855],\n",
              "       [333.77618503],\n",
              "       [333.78344316],\n",
              "       [333.79029674],\n",
              "       [333.79679337],\n",
              "       [333.80300443],\n",
              "       [333.80883473],\n",
              "       [333.81435567],\n",
              "       [333.81956724],\n",
              "       [333.82451705],\n",
              "       [333.82927648],\n",
              "       [333.83372655],\n",
              "       [333.83789105],\n",
              "       [333.84193657],\n",
              "       [333.84572032],\n",
              "       [333.8492185 ],\n",
              "       [333.85262149],\n",
              "       [333.85583411],\n",
              "       [333.85892774],\n",
              "       [333.8617596 ],\n",
              "       [333.86444868],\n",
              "       [333.86706636],\n",
              "       [333.86951747],\n",
              "       [333.8717782 ],\n",
              "       [333.87406273],\n",
              "       [333.87608549]])"
            ]
          },
          "metadata": {},
          "execution_count": 36
        }
      ]
    },
    {
      "cell_type": "code",
      "source": [
        "from sklearn.metrics import mean_squared_error\n",
        "from math import sqrt\n",
        "rmse=sqrt(mean_squared_error(test,true_predictions))\n",
        "print(rmse)"
      ],
      "metadata": {
        "colab": {
          "base_uri": "https://localhost:8080/"
        },
        "id": "ljHp0jK9VWHF",
        "outputId": "d808dad2-d523-4bc4-a11c-09ba9ada12ca"
      },
      "execution_count": null,
      "outputs": [
        {
          "output_type": "stream",
          "name": "stdout",
          "text": [
            "136.95730652890376\n"
          ]
        }
      ]
    },
    {
      "cell_type": "code",
      "source": [
        "plt.plot(test,true_predictions)"
      ],
      "metadata": {
        "colab": {
          "base_uri": "https://localhost:8080/",
          "height": 283
        },
        "id": "JqUcdgccVy9Z",
        "outputId": "a261e58f-af40-44c2-a861-03e8be71c31f"
      },
      "execution_count": null,
      "outputs": [
        {
          "output_type": "execute_result",
          "data": {
            "text/plain": [
              "[<matplotlib.lines.Line2D at 0x7fa8ba9b8f90>]"
            ]
          },
          "metadata": {},
          "execution_count": 39
        },
        {
          "output_type": "display_data",
          "data": {
            "image/png": "[encoded data removed]",
            "text/plain": [
              "<Figure size 432x288 with 1 Axes>"
            ]
          },
          "metadata": {
            "needs_background": "light"
          }
        }
      ]
    },
    {
      "cell_type": "code",
      "source": [
        ""
      ],
      "metadata": {
        "id": "5Wv-6VE5WDh5"
      },
      "execution_count": null,
      "outputs": []
    }
  ]
}